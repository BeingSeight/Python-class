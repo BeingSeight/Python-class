{
 "cells": [
  {
   "cell_type": "code",
   "execution_count": 2,
   "metadata": {},
   "outputs": [
    {
     "name": "stdout",
     "output_type": "stream",
     "text": [
      "The new created array is : "
     ]
    },
    {
     "ename": "TypeError",
     "evalue": "'int' object is not iterable",
     "output_type": "error",
     "traceback": [
      "\u001b[0;31m---------------------------------------------------------------------------\u001b[0m",
      "\u001b[0;31mTypeError\u001b[0m                                 Traceback (most recent call last)",
      "Cell \u001b[0;32mIn[2], line 4\u001b[0m\n\u001b[1;32m      2\u001b[0m a \u001b[38;5;241m=\u001b[39m arr\u001b[38;5;241m.\u001b[39marray(\u001b[38;5;124m'\u001b[39m\u001b[38;5;124mi\u001b[39m\u001b[38;5;124m'\u001b[39m, [\u001b[38;5;241m1\u001b[39m, \u001b[38;5;241m2\u001b[39m, \u001b[38;5;241m3\u001b[39m])\n\u001b[1;32m      3\u001b[0m \u001b[38;5;28mprint\u001b[39m(\u001b[38;5;124m\"\u001b[39m\u001b[38;5;124mThe new created array is :\u001b[39m\u001b[38;5;124m\"\u001b[39m, end\u001b[38;5;241m=\u001b[39m\u001b[38;5;124m\"\u001b[39m\u001b[38;5;124m \u001b[39m\u001b[38;5;124m\"\u001b[39m)\n\u001b[0;32m----> 4\u001b[0m \u001b[38;5;28;43;01mfor\u001b[39;49;00m\u001b[43m \u001b[49m\u001b[43mi\u001b[49m\u001b[43m \u001b[49m\u001b[38;5;129;43;01min\u001b[39;49;00m\u001b[43m \u001b[49m\u001b[38;5;28;43mlen\u001b[39;49m\u001b[43m(\u001b[49m\u001b[43ma\u001b[49m\u001b[43m)\u001b[49m\u001b[43m:\u001b[49m\n\u001b[1;32m      5\u001b[0m \u001b[43m    \u001b[49m\u001b[38;5;28;43mprint\u001b[39;49m\u001b[43m(\u001b[49m\u001b[43ma\u001b[49m\u001b[43m[\u001b[49m\u001b[43mi\u001b[49m\u001b[43m]\u001b[49m\u001b[43m,\u001b[49m\u001b[43m \u001b[49m\u001b[43mend\u001b[49m\u001b[38;5;241;43m=\u001b[39;49m\u001b[38;5;124;43m\"\u001b[39;49m\u001b[38;5;124;43m \u001b[39;49m\u001b[38;5;124;43m\"\u001b[39;49m\u001b[43m)\u001b[49m\n",
      "\u001b[0;31mTypeError\u001b[0m: 'int' object is not iterable"
     ]
    }
   ],
   "source": [
    "import array as arr\n",
    "a = arr.array('i', [1, 2, 3])\n",
    "print(\"The new created array is :\", end=\" \")\n",
    "for i in len(a):\n",
    "    print(a[i], end=\" \")\n"
   ]
  },
  {
   "cell_type": "code",
   "execution_count": 8,
   "metadata": {},
   "outputs": [
    {
     "ename": "TypeError",
     "evalue": "'float' object cannot be interpreted as an integer",
     "output_type": "error",
     "traceback": [
      "\u001b[0;31m---------------------------------------------------------------------------\u001b[0m",
      "\u001b[0;31mTypeError\u001b[0m                                 Traceback (most recent call last)",
      "Cell \u001b[0;32mIn[8], line 2\u001b[0m\n\u001b[1;32m      1\u001b[0m \u001b[38;5;28;01mimport\u001b[39;00m \u001b[38;5;21;01marray\u001b[39;00m \u001b[38;5;28;01mas\u001b[39;00m \u001b[38;5;21;01marr\u001b[39;00m\n\u001b[0;32m----> 2\u001b[0m b \u001b[38;5;241m=\u001b[39m \u001b[43marr\u001b[49m\u001b[38;5;241;43m.\u001b[39;49m\u001b[43marray\u001b[49m\u001b[43m(\u001b[49m\u001b[38;5;124;43m'\u001b[39;49m\u001b[38;5;124;43mi\u001b[39;49m\u001b[38;5;124;43m'\u001b[39;49m\u001b[43m,\u001b[49m\u001b[43m \u001b[49m\u001b[43m[\u001b[49m\u001b[38;5;241;43m1.2\u001b[39;49m\u001b[43m,\u001b[49m\u001b[43m \u001b[49m\u001b[38;5;241;43m2.6\u001b[39;49m\u001b[43m,\u001b[49m\u001b[43m \u001b[49m\u001b[38;5;241;43m3.4\u001b[39;49m\u001b[43m]\u001b[49m\u001b[43m)\u001b[49m\n\u001b[1;32m      3\u001b[0m \u001b[38;5;28mprint\u001b[39m(\u001b[38;5;124m\"\u001b[39m\u001b[38;5;124mThe new created array is :\u001b[39m\u001b[38;5;124m\"\u001b[39m, end\u001b[38;5;241m=\u001b[39m\u001b[38;5;124m\"\u001b[39m\u001b[38;5;124m \u001b[39m\u001b[38;5;124m\"\u001b[39m)\n\u001b[1;32m      4\u001b[0m \u001b[38;5;28;01mfor\u001b[39;00m i \u001b[38;5;129;01min\u001b[39;00m \u001b[38;5;28mlen\u001b[39m(a):\n",
      "\u001b[0;31mTypeError\u001b[0m: 'float' object cannot be interpreted as an integer"
     ]
    }
   ],
   "source": [
    "import array as arr\n",
    "b = arr.array('i', [1.2, 2.6, 3.4])\n",
    "print(\"The new created array is :\", end=\" \")\n",
    "for i in len(a):\n",
    "    print(a[i], end=\" \")\n"
   ]
  },
  {
   "cell_type": "code",
   "execution_count": 10,
   "metadata": {},
   "outputs": [
    {
     "name": "stdout",
     "output_type": "stream",
     "text": [
      "Array before insertion : 2.5 3.2 3.3 \n",
      "Array after insertion : 2.5 3.2 3.3 4.4 "
     ]
    }
   ],
   "source": [
    "## inserting elements in array\n",
    "\n",
    "import array as arr\n",
    "b = arr.array('d', [2.5, 3.2, 3.3])\n",
    "print(\"Array before insertion :\", end=\" \")\n",
    "for i in range(0,3):\n",
    "    print(b[i], end=\" \")\n",
    "print()\n",
    "b.append(4.4)\n",
    "print(\"Array after insertion :\", end=\" \")\n",
    "for i in (b):\n",
    "    print(i, end=\" \")"
   ]
  },
  {
   "cell_type": "code",
   "execution_count": 11,
   "metadata": {},
   "outputs": [
    {
     "name": "stdout",
     "output_type": "stream",
     "text": [
      "1\n",
      "4\n",
      "2.5\n",
      "3.2\n"
     ]
    }
   ],
   "source": [
    "# Accessing elements from the Array\n",
    "\n",
    "import array as arr\n",
    "a = arr.array('i',[1,2,3,4,5,6])\n",
    "print(a[0])\n",
    "print(a[3])\n",
    "b = arr.array('d',[2.5,3.2,3.3])\n",
    "print(b[0])\n",
    "print(b[1])"
   ]
  },
  {
   "cell_type": "code",
   "execution_count": 13,
   "metadata": {},
   "outputs": [
    {
     "name": "stdout",
     "output_type": "stream",
     "text": [
      "The before array extend :  12345\n",
      "\n",
      "The array after extend :  1 2 3 4 5 6 7 8 9 10 \n"
     ]
    }
   ],
   "source": [
    "import array as arr\n",
    "a=arr.array(\"i\",{1,2,3,4,5})\n",
    "print(\"The before array extend : \",end=\" \")\n",
    "\n",
    "for i in range(0,5):\n",
    "    print(a[i],end=\"\")\n",
    "print()\n",
    "\n",
    "a.extend([6,7,8,9,10])\n",
    "print(\"\\nThe array after extend : \",end=\" \")\n",
    "\n",
    "for i in range(0,10):\n",
    "    print(a[i],end=\" \")\n",
    "print()"
   ]
  },
  {
   "cell_type": "code",
   "execution_count": 16,
   "metadata": {},
   "outputs": [
    {
     "name": "stdout",
     "output_type": "stream",
     "text": [
      "'very' is present in 'Python is very easy'\n"
     ]
    }
   ],
   "source": [
    "# Checking Membership with \"in\"\n",
    "\n",
    "s= \"Python is very easy\"\n",
    "if \"very\" in s:\n",
    "    print(f\"'very' is present in '{s}'\")"
   ]
  },
  {
   "cell_type": "code",
   "execution_count": 17,
   "metadata": {},
   "outputs": [
    {
     "name": "stdout",
     "output_type": "stream",
     "text": [
      "LEARNING PYTHON IS VERY EASY\n",
      "learning python is very easy\n",
      "LEARNING pYTHON IS VERY eASY\n",
      "Learning Python Is Very Easy\n",
      "Learning python is very easy\n"
     ]
    }
   ],
   "source": [
    "# Changing case of String\n",
    "\n",
    "s= 'learning Python is very Easy'\n",
    "print(s.upper())\n",
    "print(s.lower())\n",
    "print(s.swapcase())\n",
    "print(s.title())\n",
    "print(s.capitalize())"
   ]
  },
  {
   "cell_type": "code",
   "execution_count": 18,
   "metadata": {},
   "outputs": [
    {
     "name": "stdout",
     "output_type": "stream",
     "text": [
      "True\n",
      "True\n",
      "True\n"
     ]
    }
   ],
   "source": [
    "# Checking starting and ending part of String\n",
    "\n",
    "s= 'learning Python is very Easy'\n",
    "print(s.startswith(\"learn\"))\n",
    "print(s.endswith(\"y\"))\n",
    "print(s.endswith(\"Easy\"))\n"
   ]
  },
  {
   "cell_type": "code",
   "execution_count": 1,
   "metadata": {},
   "outputs": [
    {
     "name": "stdout",
     "output_type": "stream",
     "text": [
      "2\n",
      "-1\n",
      "10\n",
      "2\n",
      "10\n"
     ]
    },
    {
     "ename": "ValueError",
     "evalue": "substring not found",
     "output_type": "error",
     "traceback": [
      "\u001b[0;31m---------------------------------------------------------------------------\u001b[0m",
      "\u001b[0;31mValueError\u001b[0m                                Traceback (most recent call last)",
      "Cell \u001b[0;32mIn[1], line 10\u001b[0m\n\u001b[1;32m      8\u001b[0m \u001b[38;5;28mprint\u001b[39m(s\u001b[38;5;241m.\u001b[39mindex(\u001b[38;5;124m\"\u001b[39m\u001b[38;5;124mth\u001b[39m\u001b[38;5;124m\"\u001b[39m)) \u001b[38;5;66;03m#2\u001b[39;00m\n\u001b[1;32m      9\u001b[0m \u001b[38;5;28mprint\u001b[39m(s\u001b[38;5;241m.\u001b[39mindex(\u001b[38;5;124m\"\u001b[39m\u001b[38;5;124mth\u001b[39m\u001b[38;5;124m\"\u001b[39m,\u001b[38;5;241m7\u001b[39m,\u001b[38;5;241m15\u001b[39m)) \u001b[38;5;66;03m#10\u001b[39;00m\n\u001b[0;32m---> 10\u001b[0m \u001b[38;5;28mprint\u001b[39m(\u001b[43ms\u001b[49m\u001b[38;5;241;43m.\u001b[39;49m\u001b[43mindex\u001b[49m\u001b[43m(\u001b[49m\u001b[38;5;124;43m\"\u001b[39;49m\u001b[38;5;124;43mJava\u001b[39;49m\u001b[38;5;124;43m\"\u001b[39;49m\u001b[43m)\u001b[49m) \u001b[38;5;66;03m#Valueerror\u001b[39;00m\n",
      "\u001b[0;31mValueError\u001b[0m: substring not found"
     ]
    }
   ],
   "source": [
    "#find(): Returns index of first occurence of given substring. If it is not available \n",
    "s= \"Python is the easiest\"\n",
    "print(s.find(\"th\")) #2\n",
    "print(s.find(\"Java\")) #-1\n",
    "# s.find(subtracting,begin,end)\n",
    "print(s.find(\"th\",7,15)) #10\n",
    "# index() is same as find() method except that if the specified substring is not available,\n",
    "print(s.index(\"th\")) #2\n",
    "print(s.index(\"th\",7,15)) #10\n",
    "print(s.index(\"Java\")) #Valueerror"
   ]
  },
  {
   "cell_type": "code",
   "execution_count": 2,
   "metadata": {},
   "outputs": [
    {
     "name": "stdout",
     "output_type": "stream",
     "text": [
      "['welcome', 'to', 'the', 'world', 'of', 'programming']\n",
      "['one:two:three']\n",
      "['one:', ' two', ' three']\n",
      "['Ca', 'Ba', 'Sa', 'Fa', 'Or']\n"
     ]
    }
   ],
   "source": [
    "# Split function\n",
    "text1 = 'welcome to the world of programming'\n",
    "\n",
    "# Splits at space\n",
    "print(text1.split())\n",
    "\n",
    "text2 = \"one:two:three\"\n",
    "print(text2.split(\",\"))\n",
    "\n",
    "text2 = \"one:, two, three\"\n",
    "print(text2.split(\",\"))\n",
    "\n",
    "text3 = 'CatBatSatFatOr'\n",
    "\n",
    "# Splitting at t\n",
    "print(text3.split('t'))"
   ]
  },
  {
   "cell_type": "code",
   "execution_count": 3,
   "metadata": {},
   "outputs": [
    {
     "name": "stdout",
     "output_type": "stream",
     "text": [
      "('light ', 'attracts', ' bug')\n",
      "('gold ', 'is', ' heavy')\n"
     ]
    }
   ],
   "source": [
    "string = \"light attracts bug\"\n",
    "\n",
    "print(string.partition('attracts'))\n",
    "\n",
    "string = \"gold is heavy\"\n",
    "\n",
    "print(string.partition('is'))"
   ]
  },
  {
   "cell_type": "code",
   "execution_count": 8,
   "metadata": {},
   "outputs": [
    {
     "name": "stdout",
     "output_type": "stream",
     "text": [
      "Hello World\n"
     ]
    }
   ],
   "source": [
    "# User defined function\n",
    "\n",
    "def funct1():\n",
    "    print(\"Hello World\")\n",
    "\n",
    "funct1() \n"
   ]
  },
  {
   "cell_type": "code",
   "execution_count": 6,
   "metadata": {},
   "outputs": [
    {
     "name": "stdout",
     "output_type": "stream",
     "text": [
      "The Factorial of  1 is : 1\n",
      "The Factorial of  2 is : 2\n",
      "The Factorial of  3 is : 6\n",
      "The Factorial of  4 is : 24\n"
     ]
    }
   ],
   "source": [
    "def fact(num):\n",
    "    result=1\n",
    "    while num>=1:\n",
    "        result=result*num\n",
    "        num=num-1\n",
    "    return result\n",
    "\n",
    "for i in range(1,5):\n",
    "    print(\"The Factorial of \",i,\"is :\", fact(i))"
   ]
  },
  {
   "cell_type": "code",
   "execution_count": 7,
   "metadata": {},
   "outputs": [
    {
     "name": "stdout",
     "output_type": "stream",
     "text": [
      "The Sum is : 150\n",
      "The Subtraction is : 50\n"
     ]
    }
   ],
   "source": [
    "# Return multiple values from a function\n",
    "\n",
    "def sum_sub(a,b):\n",
    "    add=a+b\n",
    "    sub=a-b\n",
    "    return add,sub\n",
    "\n",
    "x,y=sum_sub(100,50)\n",
    "print(\"The Sum is :\",x)\n",
    "print(\"The Subtraction is :\",y)"
   ]
  },
  {
   "cell_type": "code",
   "execution_count": 12,
   "metadata": {},
   "outputs": [
    {
     "name": "stdout",
     "output_type": "stream",
     "text": [
      "Hello Maria Good morning\n",
      "Hello Maria Good morning\n",
      "Hello Maria Good morning\n"
     ]
    }
   ],
   "source": [
    "# POSITIONAL ARGUMENTS\n",
    "\n",
    "def greet(name, msg):\n",
    "    print(\"Hello\",name,msg)\n",
    "\n",
    "greet('Maria','Good morning') #positional arguments\n",
    "greet(msg = \"Good morning\",name = \"Maria\") #keyword arguments\n",
    "greet(\"Maria\", msg = \"Good morning\") #positional arguments"
   ]
  },
  {
   "cell_type": "code",
   "execution_count": 1,
   "metadata": {},
   "outputs": [
    {
     "name": "stdout",
     "output_type": "stream",
     "text": [
      "[2, 4, 8, 16, 32]\n"
     ]
    }
   ],
   "source": [
    "# Ex List Comprehension to print powers of 2 from 1 to 6\n",
    "\n",
    "v=[2**x for x in range(1,6)]\n",
    "print(v)"
   ]
  },
  {
   "cell_type": "code",
   "execution_count": 3,
   "metadata": {},
   "outputs": [
    {
     "name": "stdout",
     "output_type": "stream",
     "text": [
      "[1, 4, 9, 16, 25, 36, 49, 64, 81, 100]\n"
     ]
    }
   ],
   "source": [
    "# Generate a list of squares of numbers from 1 to 10\n",
    "\n",
    "v=[x**2 for x in range(1,11)]\n",
    "print(v)    "
   ]
  },
  {
   "cell_type": "code",
   "execution_count": 4,
   "metadata": {},
   "outputs": [
    {
     "name": "stdout",
     "output_type": "stream",
     "text": [
      "[(1, 3), (1, 4), (2, 3), (2, 1), (2, 4), (3, 1), (3, 4)]\n"
     ]
    }
   ],
   "source": [
    "combs = []\n",
    "for x in [1,2,3]:\n",
    "    for y in [3,1,4]:\n",
    "        if x != y:\n",
    "            combs.append((x, y))\n",
    "print(combs)"
   ]
  },
  {
   "cell_type": "code",
   "execution_count": 1,
   "metadata": {},
   "outputs": [
    {
     "name": "stdout",
     "output_type": "stream",
     "text": [
      "1\n",
      "2\n",
      "3\n"
     ]
    }
   ],
   "source": [
    "# Tuple unpacking\n",
    "a, b, c = (1, 2, 3)\n",
    "print(a)\n",
    "print(b)\n",
    "print(c)"
   ]
  },
  {
   "cell_type": "code",
   "execution_count": 3,
   "metadata": {},
   "outputs": [
    {
     "name": "stdout",
     "output_type": "stream",
     "text": [
      "[]\n",
      "<class 'list'>\n"
     ]
    }
   ],
   "source": [
    "# Empty List\n",
    "l2 = []\n",
    "print(l2)\n",
    "print(type(l2))"
   ]
  },
  {
   "cell_type": "code",
   "execution_count": 5,
   "metadata": {},
   "outputs": [
    {
     "name": "stdout",
     "output_type": "stream",
     "text": [
      "['geeks', 'for', 'geeks', 40.5, 46.5, 38.5, 42.5]\n",
      "<class 'list'>\n"
     ]
    }
   ],
   "source": [
    "# Creating a List\n",
    "l1 = [\"geeks\", \"for\", \"geeks\", 40.5, 46.5, 38.5, 42.5]\n",
    "print(l1)\n",
    "print(type(l1))"
   ]
  },
  {
   "cell_type": "code",
   "execution_count": 13,
   "metadata": {},
   "outputs": [
    {
     "name": "stdout",
     "output_type": "stream",
     "text": [
      "1\n",
      "<class 'int'>\n"
     ]
    }
   ],
   "source": [
    "# Using Dynamic input\n",
    "alas=eval(input(\"Enter List (Enclose it in Sqaure bracket):\"))\n",
    "print(alas)\n",
    "print(type(alas))"
   ]
  },
  {
   "cell_type": "code",
   "execution_count": null,
   "metadata": {},
   "outputs": [],
   "source": []
  }
 ],
 "metadata": {
  "kernelspec": {
   "display_name": "Python 3",
   "language": "python",
   "name": "python3"
  },
  "language_info": {
   "codemirror_mode": {
    "name": "ipython",
    "version": 3
   },
   "file_extension": ".py",
   "mimetype": "text/x-python",
   "name": "python",
   "nbconvert_exporter": "python",
   "pygments_lexer": "ipython3",
   "version": "3.12.6"
  }
 },
 "nbformat": 4,
 "nbformat_minor": 2
}
