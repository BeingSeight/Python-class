{
 "cells": [
  {
   "cell_type": "code",
   "execution_count": null,
   "metadata": {},
   "outputs": [],
   "source": [
    "import array as arr\n",
    "\n",
    "a = arr.array('i', [1, 2, 3])\n",
    "print(\"the new created array is : \", end=\" \")\n",
    "print(a[0])\n",
    "print(a[3])\n",
    "\n",
    "b = arr.array('d', [2.5, 3.2, 3.3])\n",
    "print(\"the new created array is : \", end=\" \")\n",
    "print(b[0])\n",
    "print(b[3])"
   ]
  }
 ],
 "metadata": {
  "language_info": {
   "name": "python"
  }
 },
 "nbformat": 4,
 "nbformat_minor": 2
}
